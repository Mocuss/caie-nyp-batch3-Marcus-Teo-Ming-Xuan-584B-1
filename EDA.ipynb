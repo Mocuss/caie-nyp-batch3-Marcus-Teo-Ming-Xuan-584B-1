{
 "cells": [
  {
   "cell_type": "code",
   "execution_count": 1,
   "metadata": {},
   "outputs": [],
   "source": [
    "import pandas as pd\n",
    "import numpy as np\n",
    "\n",
    "import seaborn as sns\n",
    "import matplotlib.pylab as plt\n",
    "%matplotlib inline\n",
    "\n",
    "from sklearn.preprocessing import StandardScaler\n",
    "from sklearn.preprocessing import MinMaxScaler\n",
    "\n",
    "from scipy.stats import norm\n",
    "from scipy import stats\n",
    "import sqlite3 # needed to connect to database"
   ]
  },
  {
   "cell_type": "markdown",
   "metadata": {},
   "source": [
    "### Importing the Dataset"
   ]
  },
  {
   "cell_type": "code",
   "execution_count": 2,
   "metadata": {},
   "outputs": [
    {
     "name": "stdout",
     "output_type": "stream",
     "text": [
      "             name\n",
      "0  bank_marketing\n"
     ]
    },
    {
     "data": {
      "text/html": [
       "<div>\n",
       "<style scoped>\n",
       "    .dataframe tbody tr th:only-of-type {\n",
       "        vertical-align: middle;\n",
       "    }\n",
       "\n",
       "    .dataframe tbody tr th {\n",
       "        vertical-align: top;\n",
       "    }\n",
       "\n",
       "    .dataframe thead th {\n",
       "        text-align: right;\n",
       "    }\n",
       "</style>\n",
       "<table border=\"1\" class=\"dataframe\">\n",
       "  <thead>\n",
       "    <tr style=\"text-align: right;\">\n",
       "      <th></th>\n",
       "      <th>Client ID</th>\n",
       "      <th>Age</th>\n",
       "      <th>Occupation</th>\n",
       "      <th>Marital Status</th>\n",
       "      <th>Education Level</th>\n",
       "      <th>Credit Default</th>\n",
       "      <th>Housing Loan</th>\n",
       "      <th>Personal Loan</th>\n",
       "      <th>Contact Method</th>\n",
       "      <th>Campaign Calls</th>\n",
       "      <th>Previous Contact Days</th>\n",
       "      <th>Subscription Status</th>\n",
       "    </tr>\n",
       "  </thead>\n",
       "  <tbody>\n",
       "    <tr>\n",
       "      <th>0</th>\n",
       "      <td>32885</td>\n",
       "      <td>57 years</td>\n",
       "      <td>technician</td>\n",
       "      <td>married</td>\n",
       "      <td>high.school</td>\n",
       "      <td>no</td>\n",
       "      <td>no</td>\n",
       "      <td>yes</td>\n",
       "      <td>Cell</td>\n",
       "      <td>1</td>\n",
       "      <td>999</td>\n",
       "      <td>no</td>\n",
       "    </tr>\n",
       "    <tr>\n",
       "      <th>1</th>\n",
       "      <td>3170</td>\n",
       "      <td>55 years</td>\n",
       "      <td>unknown</td>\n",
       "      <td>married</td>\n",
       "      <td>unknown</td>\n",
       "      <td>unknown</td>\n",
       "      <td>yes</td>\n",
       "      <td>no</td>\n",
       "      <td>telephone</td>\n",
       "      <td>2</td>\n",
       "      <td>999</td>\n",
       "      <td>no</td>\n",
       "    </tr>\n",
       "    <tr>\n",
       "      <th>2</th>\n",
       "      <td>32207</td>\n",
       "      <td>33 years</td>\n",
       "      <td>blue-collar</td>\n",
       "      <td>married</td>\n",
       "      <td>basic.9y</td>\n",
       "      <td>no</td>\n",
       "      <td>no</td>\n",
       "      <td>no</td>\n",
       "      <td>cellular</td>\n",
       "      <td>1</td>\n",
       "      <td>999</td>\n",
       "      <td>no</td>\n",
       "    </tr>\n",
       "    <tr>\n",
       "      <th>3</th>\n",
       "      <td>9404</td>\n",
       "      <td>36 years</td>\n",
       "      <td>admin.</td>\n",
       "      <td>married</td>\n",
       "      <td>high.school</td>\n",
       "      <td>no</td>\n",
       "      <td>no</td>\n",
       "      <td>no</td>\n",
       "      <td>Telephone</td>\n",
       "      <td>4</td>\n",
       "      <td>999</td>\n",
       "      <td>no</td>\n",
       "    </tr>\n",
       "    <tr>\n",
       "      <th>4</th>\n",
       "      <td>14021</td>\n",
       "      <td>27 years</td>\n",
       "      <td>housemaid</td>\n",
       "      <td>married</td>\n",
       "      <td>high.school</td>\n",
       "      <td>no</td>\n",
       "      <td>None</td>\n",
       "      <td>no</td>\n",
       "      <td>Cell</td>\n",
       "      <td>2</td>\n",
       "      <td>999</td>\n",
       "      <td>no</td>\n",
       "    </tr>\n",
       "    <tr>\n",
       "      <th>...</th>\n",
       "      <td>...</td>\n",
       "      <td>...</td>\n",
       "      <td>...</td>\n",
       "      <td>...</td>\n",
       "      <td>...</td>\n",
       "      <td>...</td>\n",
       "      <td>...</td>\n",
       "      <td>...</td>\n",
       "      <td>...</td>\n",
       "      <td>...</td>\n",
       "      <td>...</td>\n",
       "      <td>...</td>\n",
       "    </tr>\n",
       "    <tr>\n",
       "      <th>41183</th>\n",
       "      <td>6266</td>\n",
       "      <td>58 years</td>\n",
       "      <td>retired</td>\n",
       "      <td>married</td>\n",
       "      <td>professional.course</td>\n",
       "      <td>unknown</td>\n",
       "      <td>no</td>\n",
       "      <td>no</td>\n",
       "      <td>Telephone</td>\n",
       "      <td>2</td>\n",
       "      <td>999</td>\n",
       "      <td>no</td>\n",
       "    </tr>\n",
       "    <tr>\n",
       "      <th>41184</th>\n",
       "      <td>11285</td>\n",
       "      <td>37 years</td>\n",
       "      <td>management</td>\n",
       "      <td>married</td>\n",
       "      <td>university.degree</td>\n",
       "      <td>no</td>\n",
       "      <td>no</td>\n",
       "      <td>no</td>\n",
       "      <td>telephone</td>\n",
       "      <td>1</td>\n",
       "      <td>999</td>\n",
       "      <td>no</td>\n",
       "    </tr>\n",
       "    <tr>\n",
       "      <th>41185</th>\n",
       "      <td>38159</td>\n",
       "      <td>35 years</td>\n",
       "      <td>admin.</td>\n",
       "      <td>married</td>\n",
       "      <td>high.school</td>\n",
       "      <td>no</td>\n",
       "      <td>None</td>\n",
       "      <td>no</td>\n",
       "      <td>cellular</td>\n",
       "      <td>1</td>\n",
       "      <td>4</td>\n",
       "      <td>yes</td>\n",
       "    </tr>\n",
       "    <tr>\n",
       "      <th>41186</th>\n",
       "      <td>861</td>\n",
       "      <td>40 years</td>\n",
       "      <td>management</td>\n",
       "      <td>married</td>\n",
       "      <td>university.degree</td>\n",
       "      <td>no</td>\n",
       "      <td>None</td>\n",
       "      <td>no</td>\n",
       "      <td>telephone</td>\n",
       "      <td>2</td>\n",
       "      <td>999</td>\n",
       "      <td>no</td>\n",
       "    </tr>\n",
       "    <tr>\n",
       "      <th>41187</th>\n",
       "      <td>15796</td>\n",
       "      <td>29 years</td>\n",
       "      <td>admin.</td>\n",
       "      <td>single</td>\n",
       "      <td>university.degree</td>\n",
       "      <td>no</td>\n",
       "      <td>yes</td>\n",
       "      <td>no</td>\n",
       "      <td>Cell</td>\n",
       "      <td>2</td>\n",
       "      <td>999</td>\n",
       "      <td>no</td>\n",
       "    </tr>\n",
       "  </tbody>\n",
       "</table>\n",
       "<p>41188 rows × 12 columns</p>\n",
       "</div>"
      ],
      "text/plain": [
       "       Client ID       Age   Occupation Marital Status      Education Level  \\\n",
       "0          32885  57 years   technician        married          high.school   \n",
       "1           3170  55 years      unknown        married              unknown   \n",
       "2          32207  33 years  blue-collar        married             basic.9y   \n",
       "3           9404  36 years       admin.        married          high.school   \n",
       "4          14021  27 years    housemaid        married          high.school   \n",
       "...          ...       ...          ...            ...                  ...   \n",
       "41183       6266  58 years      retired        married  professional.course   \n",
       "41184      11285  37 years   management        married    university.degree   \n",
       "41185      38159  35 years       admin.        married          high.school   \n",
       "41186        861  40 years   management        married    university.degree   \n",
       "41187      15796  29 years       admin.         single    university.degree   \n",
       "\n",
       "      Credit Default Housing Loan Personal Loan Contact Method  \\\n",
       "0                 no           no           yes           Cell   \n",
       "1            unknown          yes            no      telephone   \n",
       "2                 no           no            no       cellular   \n",
       "3                 no           no            no      Telephone   \n",
       "4                 no         None            no           Cell   \n",
       "...              ...          ...           ...            ...   \n",
       "41183        unknown           no            no      Telephone   \n",
       "41184             no           no            no      telephone   \n",
       "41185             no         None            no       cellular   \n",
       "41186             no         None            no      telephone   \n",
       "41187             no          yes            no           Cell   \n",
       "\n",
       "       Campaign Calls  Previous Contact Days Subscription Status  \n",
       "0                   1                    999                  no  \n",
       "1                   2                    999                  no  \n",
       "2                   1                    999                  no  \n",
       "3                   4                    999                  no  \n",
       "4                   2                    999                  no  \n",
       "...               ...                    ...                 ...  \n",
       "41183               2                    999                  no  \n",
       "41184               1                    999                  no  \n",
       "41185               1                      4                 yes  \n",
       "41186               2                    999                  no  \n",
       "41187               2                    999                  no  \n",
       "\n",
       "[41188 rows x 12 columns]"
      ]
     },
     "execution_count": 2,
     "metadata": {},
     "output_type": "execute_result"
    }
   ],
   "source": [
    "#Connect to database\n",
    "conn = sqlite3.connect('bmarket.db')\n",
    "\n",
    "tables = pd.read_sql(\"SELECT name FROM sqlite_master WHERE type='table';\", conn)\n",
    "print(tables) #Only one table- we will call it df.\n",
    "df = pd.read_sql(\"SELECT * FROM bank_marketing\", conn)\n",
    "df"
   ]
  },
  {
   "cell_type": "markdown",
   "metadata": {},
   "source": [
    "## Initial Data Exploration:"
   ]
  },
  {
   "cell_type": "markdown",
   "metadata": {},
   "source": [
    "Let's see if there are any duplicates first."
   ]
  },
  {
   "cell_type": "code",
   "execution_count": 3,
   "metadata": {},
   "outputs": [
    {
     "name": "stdout",
     "output_type": "stream",
     "text": [
      "Number of duplicated rows: 0\n"
     ]
    },
    {
     "data": {
      "text/html": [
       "<div>\n",
       "<style scoped>\n",
       "    .dataframe tbody tr th:only-of-type {\n",
       "        vertical-align: middle;\n",
       "    }\n",
       "\n",
       "    .dataframe tbody tr th {\n",
       "        vertical-align: top;\n",
       "    }\n",
       "\n",
       "    .dataframe thead th {\n",
       "        text-align: right;\n",
       "    }\n",
       "</style>\n",
       "<table border=\"1\" class=\"dataframe\">\n",
       "  <thead>\n",
       "    <tr style=\"text-align: right;\">\n",
       "      <th></th>\n",
       "      <th>Client ID</th>\n",
       "      <th>Age</th>\n",
       "      <th>Occupation</th>\n",
       "      <th>Marital Status</th>\n",
       "      <th>Education Level</th>\n",
       "      <th>Credit Default</th>\n",
       "      <th>Housing Loan</th>\n",
       "      <th>Personal Loan</th>\n",
       "      <th>Contact Method</th>\n",
       "      <th>Campaign Calls</th>\n",
       "      <th>Previous Contact Days</th>\n",
       "      <th>Subscription Status</th>\n",
       "    </tr>\n",
       "  </thead>\n",
       "  <tbody>\n",
       "  </tbody>\n",
       "</table>\n",
       "</div>"
      ],
      "text/plain": [
       "Empty DataFrame\n",
       "Columns: [Client ID, Age, Occupation, Marital Status, Education Level, Credit Default, Housing Loan, Personal Loan, Contact Method, Campaign Calls, Previous Contact Days, Subscription Status]\n",
       "Index: []"
      ]
     },
     "execution_count": 3,
     "metadata": {},
     "output_type": "execute_result"
    }
   ],
   "source": [
    "# Check for duplicated rows\n",
    "duplicate_rows = df.duplicated()\n",
    "\n",
    "# Count the number of duplicated rows\n",
    "num_duplicate_rows = duplicate_rows.sum()\n",
    "\n",
    "print(f\"Number of duplicated rows: {num_duplicate_rows}\")\n",
    "\n",
    "# Display the duplicated rows (optional)\n",
    "if num_duplicate_rows > 0:\n",
    "  print(\"Duplicated rows:\")\n",
    "df[duplicate_rows]"
   ]
  },
  {
   "cell_type": "code",
   "execution_count": 4,
   "metadata": {},
   "outputs": [
    {
     "name": "stdout",
     "output_type": "stream",
     "text": [
      "Number of duplicate Client IDs: 0\n"
     ]
    },
    {
     "data": {
      "text/html": [
       "<div>\n",
       "<style scoped>\n",
       "    .dataframe tbody tr th:only-of-type {\n",
       "        vertical-align: middle;\n",
       "    }\n",
       "\n",
       "    .dataframe tbody tr th {\n",
       "        vertical-align: top;\n",
       "    }\n",
       "\n",
       "    .dataframe thead th {\n",
       "        text-align: right;\n",
       "    }\n",
       "</style>\n",
       "<table border=\"1\" class=\"dataframe\">\n",
       "  <thead>\n",
       "    <tr style=\"text-align: right;\">\n",
       "      <th></th>\n",
       "      <th>Client ID</th>\n",
       "      <th>Age</th>\n",
       "      <th>Occupation</th>\n",
       "      <th>Marital Status</th>\n",
       "      <th>Education Level</th>\n",
       "      <th>Credit Default</th>\n",
       "      <th>Housing Loan</th>\n",
       "      <th>Personal Loan</th>\n",
       "      <th>Contact Method</th>\n",
       "      <th>Campaign Calls</th>\n",
       "      <th>Previous Contact Days</th>\n",
       "      <th>Subscription Status</th>\n",
       "    </tr>\n",
       "  </thead>\n",
       "  <tbody>\n",
       "  </tbody>\n",
       "</table>\n",
       "</div>"
      ],
      "text/plain": [
       "Empty DataFrame\n",
       "Columns: [Client ID, Age, Occupation, Marital Status, Education Level, Credit Default, Housing Loan, Personal Loan, Contact Method, Campaign Calls, Previous Contact Days, Subscription Status]\n",
       "Index: []"
      ]
     },
     "execution_count": 4,
     "metadata": {},
     "output_type": "execute_result"
    }
   ],
   "source": [
    "# Check for duplicates in 'Client ID' column\n",
    "duplicate_client_ids = df.duplicated(subset=['Client ID'])\n",
    "\n",
    "# Count the number of duplicate Client IDs\n",
    "num_duplicate_client_ids = duplicate_client_ids.sum()\n",
    "\n",
    "print(f\"Number of duplicate Client IDs: {num_duplicate_client_ids}\")\n",
    "\n",
    "# Display the rows with duplicate Client IDs (optional)\n",
    "if num_duplicate_client_ids > 0:\n",
    "  print(\"Rows with duplicate Client IDs:\")\n",
    "df[duplicate_client_ids]"
   ]
  },
  {
   "cell_type": "markdown",
   "metadata": {},
   "source": [
    "There were no duplicates in the dataset."
   ]
  },
  {
   "cell_type": "code",
   "execution_count": 5,
   "metadata": {},
   "outputs": [
    {
     "name": "stdout",
     "output_type": "stream",
     "text": [
      "Missing values in each column:\n",
      "Client ID                    0\n",
      "Age                          0\n",
      "Occupation                   0\n",
      "Marital Status               0\n",
      "Education Level              0\n",
      "Credit Default               0\n",
      "Housing Loan             24789\n",
      "Personal Loan             4146\n",
      "Contact Method               0\n",
      "Campaign Calls               0\n",
      "Previous Contact Days        0\n",
      "Subscription Status          0\n",
      "dtype: int64\n",
      "\n",
      "Columns with missing values:\n"
     ]
    },
    {
     "data": {
      "text/plain": [
       "Housing Loan     24789\n",
       "Personal Loan     4146\n",
       "dtype: int64"
      ]
     },
     "execution_count": 5,
     "metadata": {},
     "output_type": "execute_result"
    }
   ],
   "source": [
    "# Check for missing values\n",
    "missing_values = df.isnull().sum()\n",
    "\n",
    "print(\"Missing values in each column:\")\n",
    "print(missing_values)\n",
    "\n",
    "# Display columns with missing values (optional)\n",
    "columns_with_missing = missing_values[missing_values > 0]\n",
    "if not columns_with_missing.empty:\n",
    "  print(\"\\nColumns with missing values:\")\n",
    "columns_with_missing"
   ]
  },
  {
   "cell_type": "markdown",
   "metadata": {},
   "source": [
    "There are some missing values in \"Housing Loan\" and \"Personal Loan\". Let's take a look at those columns."
   ]
  },
  {
   "cell_type": "code",
   "execution_count": 6,
   "metadata": {},
   "outputs": [
    {
     "name": "stdout",
     "output_type": "stream",
     "text": [
      "\n",
      "Value counts for columns with missing data in rows with missing values:\n",
      "\n",
      "Column: Housing Loan\n",
      "Housing Loan\n",
      "None       24789\n",
      "yes          853\n",
      "no           778\n",
      "unknown       47\n",
      "Name: count, dtype: int64\n",
      "\n",
      "Column: Personal Loan\n",
      "Personal Loan\n",
      "no         18405\n",
      "None        4146\n",
      "yes         3385\n",
      "unknown      531\n",
      "Name: count, dtype: int64\n"
     ]
    }
   ],
   "source": [
    "# Get value counts for columns with missing values in the rows with missing data\n",
    "rows_with_missing = df[df.isnull().any(axis=1)]\n",
    "print(\"\\nValue counts for columns with missing data in rows with missing values:\")\n",
    "for col in columns_with_missing.index:\n",
    "  print(f\"\\nColumn: {col}\")\n",
    "  print(rows_with_missing[col].value_counts(dropna=False)) # include NaN count"
   ]
  },
  {
   "cell_type": "markdown",
   "metadata": {},
   "source": [
    "The 'none' data is considered missing. We will assume that it means that no loan was taken, and that they will be filled with 'no' later."
   ]
  },
  {
   "cell_type": "markdown",
   "metadata": {},
   "source": [
    "Let's take a look at the other columns to see if we need to do anything to them."
   ]
  },
  {
   "cell_type": "code",
   "execution_count": 7,
   "metadata": {},
   "outputs": [
    {
     "data": {
      "text/plain": [
       "Occupation\n",
       "admin.           10422\n",
       "blue-collar       9254\n",
       "technician        6743\n",
       "services          3969\n",
       "management        2924\n",
       "retired           1720\n",
       "entrepreneur      1456\n",
       "self-employed     1421\n",
       "housemaid         1060\n",
       "unemployed        1014\n",
       "student            875\n",
       "unknown            330\n",
       "Name: count, dtype: int64"
      ]
     },
     "execution_count": 7,
     "metadata": {},
     "output_type": "execute_result"
    }
   ],
   "source": [
    "df[\"Occupation\"].value_counts()"
   ]
  },
  {
   "cell_type": "code",
   "execution_count": 8,
   "metadata": {},
   "outputs": [
    {
     "data": {
      "text/plain": [
       "Marital Status\n",
       "married     24928\n",
       "single      11568\n",
       "divorced     4612\n",
       "unknown        80\n",
       "Name: count, dtype: int64"
      ]
     },
     "execution_count": 8,
     "metadata": {},
     "output_type": "execute_result"
    }
   ],
   "source": [
    "df[\"Marital Status\"].value_counts()"
   ]
  },
  {
   "cell_type": "code",
   "execution_count": 9,
   "metadata": {},
   "outputs": [
    {
     "data": {
      "text/plain": [
       "Education Level\n",
       "university.degree      12168\n",
       "high.school             9515\n",
       "basic.9y                6045\n",
       "professional.course     5243\n",
       "basic.4y                4176\n",
       "basic.6y                2292\n",
       "unknown                 1731\n",
       "illiterate                18\n",
       "Name: count, dtype: int64"
      ]
     },
     "execution_count": 9,
     "metadata": {},
     "output_type": "execute_result"
    }
   ],
   "source": [
    "df[\"Education Level\"].value_counts()"
   ]
  },
  {
   "cell_type": "code",
   "execution_count": 10,
   "metadata": {},
   "outputs": [
    {
     "data": {
      "text/plain": [
       "Credit Default\n",
       "no         32588\n",
       "unknown     8597\n",
       "yes            3\n",
       "Name: count, dtype: int64"
      ]
     },
     "execution_count": 10,
     "metadata": {},
     "output_type": "execute_result"
    }
   ],
   "source": [
    "df[\"Credit Default\"].value_counts()"
   ]
  },
  {
   "cell_type": "code",
   "execution_count": 11,
   "metadata": {},
   "outputs": [
    {
     "data": {
      "text/plain": [
       "Contact Method\n",
       "Cell         13100\n",
       "cellular     13044\n",
       "Telephone     7585\n",
       "telephone     7459\n",
       "Name: count, dtype: int64"
      ]
     },
     "execution_count": 11,
     "metadata": {},
     "output_type": "execute_result"
    }
   ],
   "source": [
    "df[\"Contact Method\"].value_counts()"
   ]
  },
  {
   "cell_type": "markdown",
   "metadata": {},
   "source": [
    "Cell and cellular are the same thing, and Telephone and telephone are the same thing."
   ]
  },
  {
   "cell_type": "code",
   "execution_count": 12,
   "metadata": {},
   "outputs": [
    {
     "data": {
      "text/plain": [
       "Campaign Calls\n",
       " 1     15874\n",
       " 2      9446\n",
       " 3      4807\n",
       " 4      2405\n",
       "-1      1768\n",
       "       ...  \n",
       " 56        1\n",
       "-41        1\n",
       " 39        1\n",
       " 37        1\n",
       "-25        1\n",
       "Name: count, Length: 70, dtype: int64"
      ]
     },
     "execution_count": 12,
     "metadata": {},
     "output_type": "execute_result"
    }
   ],
   "source": [
    "df[\"Campaign Calls\"].value_counts()"
   ]
  },
  {
   "cell_type": "code",
   "execution_count": 13,
   "metadata": {},
   "outputs": [
    {
     "name": "stdout",
     "output_type": "stream",
     "text": [
      "Minimum Campaign Calls: -41\n",
      "Maximum Campaign Calls: 56\n"
     ]
    }
   ],
   "source": [
    "# Display the minimum and maximum values of the 'Campaign Calls' column\n",
    "min_campaign_calls = df['Campaign Calls'].min()\n",
    "max_campaign_calls = df['Campaign Calls'].max()\n",
    "\n",
    "print(f\"Minimum Campaign Calls: {min_campaign_calls}\")\n",
    "print(f\"Maximum Campaign Calls: {max_campaign_calls}\")"
   ]
  },
  {
   "cell_type": "code",
   "execution_count": 14,
   "metadata": {},
   "outputs": [
    {
     "name": "stdout",
     "output_type": "stream",
     "text": [
      "count    41188.000000\n",
      "mean         2.051374\n",
      "std          3.171345\n",
      "min        -41.000000\n",
      "25%          1.000000\n",
      "50%          2.000000\n",
      "75%          3.000000\n",
      "max         56.000000\n",
      "Name: Campaign Calls, dtype: float64\n",
      "Campaign Calls\n",
      "-1     1768\n",
      "-2     1124\n",
      "-3      534\n",
      "-4      246\n",
      "-5      148\n",
      "-6       86\n",
      "-7       63\n",
      "-8       35\n",
      "-9       30\n",
      "-11      21\n",
      "-10      19\n",
      "-12      18\n",
      "-14      11\n",
      "-13       8\n",
      "-17       7\n",
      "-23       5\n",
      "-16       5\n",
      "-15       4\n",
      "-22       3\n",
      "-20       3\n",
      "-18       3\n",
      "-19       2\n",
      "-28       2\n",
      "-35       2\n",
      "-21       2\n",
      "-29       1\n",
      "-32       1\n",
      "-41       1\n",
      "-25       1\n",
      "Name: count, dtype: int64\n",
      "Empty DataFrame\n",
      "Columns: [Client ID, Age, Occupation, Marital Status, Education Level, Credit Default, Housing Loan, Personal Loan, Contact Method, Campaign Calls, Previous Contact Days, Subscription Status]\n",
      "Index: []\n",
      "Campaign Calls\n",
      "1     15874\n",
      "2      9446\n",
      "3      4807\n",
      "4      2405\n",
      "5      1451\n",
      "6       893\n",
      "7       566\n",
      "8       365\n",
      "9       253\n",
      "10      206\n",
      "11      156\n",
      "12      107\n",
      "13       84\n",
      "14       58\n",
      "17       51\n",
      "15       47\n",
      "16       46\n",
      "18       30\n",
      "20       27\n",
      "19       24\n",
      "21       22\n",
      "24       15\n",
      "22       14\n",
      "23       11\n",
      "27       11\n",
      "29        9\n",
      "26        8\n",
      "30        7\n",
      "25        7\n",
      "31        7\n",
      "28        6\n",
      "33        4\n",
      "32        3\n",
      "34        3\n",
      "35        3\n",
      "42        2\n",
      "40        2\n",
      "43        2\n",
      "56        1\n",
      "39        1\n",
      "37        1\n",
      "Name: count, dtype: int64\n"
     ]
    }
   ],
   "source": [
    "print(df['Campaign Calls'].describe())\n",
    "print(df[df['Campaign Calls'] < 0]['Campaign Calls'].value_counts())\n",
    "print(df[df['Campaign Calls'] == 0])\n",
    "print(df[df['Campaign Calls'] >= 0]['Campaign Calls'].value_counts())"
   ]
  },
  {
   "cell_type": "markdown",
   "metadata": {},
   "source": [
    "Campaign calls should not have negatives- there is nothing called negative calls. There are 2 possible reasons. 1. There were typos and errors made, a negative sign added to 10% of the dataset. 2. These should be 0. \n",
    "However, it is weird that the negative numbers have such a huge range (from -1 to -41). Hence, the first option seems to be more viable."
   ]
  },
  {
   "cell_type": "code",
   "execution_count": 15,
   "metadata": {},
   "outputs": [
    {
     "data": {
      "text/plain": [
       "Age\n",
       "150 years    4197\n",
       "31 years     1747\n",
       "32 years     1646\n",
       "33 years     1643\n",
       "36 years     1606\n",
       "             ... \n",
       "92 years        4\n",
       "89 years        2\n",
       "91 years        2\n",
       "98 years        2\n",
       "95 years        1\n",
       "Name: count, Length: 77, dtype: int64"
      ]
     },
     "execution_count": 15,
     "metadata": {},
     "output_type": "execute_result"
    }
   ],
   "source": [
    "df[\"Age\"].value_counts()"
   ]
  },
  {
   "cell_type": "markdown",
   "metadata": {},
   "source": [
    "Age of 150 years is not possible. 10% of data have 150 y.o., and removing it may cause huge info loss. I will be filling up with the mean Age to reduce as much info loss."
   ]
  },
  {
   "cell_type": "markdown",
   "metadata": {},
   "source": [
    "Summary of inspection:\n",
    "1. No duplicates for the rows or client ID.\n",
    "2. Housing Loan contains None (missing) data- I am assuming this means that no loan was taken and will be filling 'None' with 'no'.\n",
    "3. Personal Loan contains None (missing) data- I am assuming this means that no loan was taken and will be filling 'None' with 'no'.\n",
    "4. Age contains '150'- this is physically impossible. 10% of the overall data contains this error and removing it may cause important info to be lost. Hence, we will be filling it with the mean age.\n",
    "5. Campaign calls should not be in the negatives - yet there are no 0s. There is also a big range of negative numbers, from -1 to -41. I am assuming these were typos made as only 10% of them were negative. They will be converted to posititve.\n",
    "6. Previous Contact days having 999 days is normal- it means that they have not been contacted before. However, this means that I will need to be careful when scaling.\n",
    "7. In contact method, there are 2 cell/cellular and 2 telephone/Telephone- they should be merged together so that there is only cellular and telephone.\n",
    "8. Subscription status is our target.\n",
    "9. Occupation, marital status, education level , housing and personal loan , contact methods and subscription status needs to be label encoded."
   ]
  },
  {
   "cell_type": "markdown",
   "metadata": {},
   "source": [
    "Filling up missing data: Housing Loan and Personal Loan."
   ]
  },
  {
   "cell_type": "code",
   "execution_count": 16,
   "metadata": {},
   "outputs": [
    {
     "name": "stdout",
     "output_type": "stream",
     "text": [
      "Housing Loan\n",
      "no         32200\n",
      "yes         8595\n",
      "unknown      393\n",
      "Name: count, dtype: int64\n"
     ]
    }
   ],
   "source": [
    "df['Housing Loan'] = df['Housing Loan'].fillna('no')\n",
    "print(df['Housing Loan'].value_counts(dropna=False)) # include NaN count to confirm no NaNs left"
   ]
  },
  {
   "cell_type": "code",
   "execution_count": 17,
   "metadata": {},
   "outputs": [
    {
     "name": "stdout",
     "output_type": "stream",
     "text": [
      "Personal Loan\n",
      "no         34678\n",
      "yes         5633\n",
      "unknown      877\n",
      "Name: count, dtype: int64\n"
     ]
    }
   ],
   "source": [
    "df['Personal Loan'] = df['Personal Loan'].fillna('no')\n",
    "print(df['Personal Loan'].value_counts(dropna=False)) # include NaN count to confirm no NaNs left"
   ]
  },
  {
   "cell_type": "markdown",
   "metadata": {},
   "source": [
    "Contact Method- Cellular and Telephone."
   ]
  },
  {
   "cell_type": "code",
   "execution_count": 18,
   "metadata": {},
   "outputs": [
    {
     "name": "stdout",
     "output_type": "stream",
     "text": [
      "Contact Method\n",
      "Cellular     26144\n",
      "Telephone    15044\n",
      "Name: count, dtype: int64\n"
     ]
    }
   ],
   "source": [
    "df['Contact Method'] = df['Contact Method'].replace(['Cell', 'cellular'], 'Cellular')\n",
    "df['Contact Method'] = df['Contact Method'].replace(['Telephone', 'telephone'], 'Telephone')\n",
    "\n",
    "print(df['Contact Method'].value_counts())"
   ]
  },
  {
   "cell_type": "markdown",
   "metadata": {},
   "source": [
    "Filling Age"
   ]
  },
  {
   "cell_type": "code",
   "execution_count": 19,
   "metadata": {},
   "outputs": [
    {
     "name": "stdout",
     "output_type": "stream",
     "text": [
      "count    41188.000000\n",
      "mean        40.025303\n",
      "std          9.890733\n",
      "min         17.000000\n",
      "25%         33.000000\n",
      "50%         40.000000\n",
      "75%         46.000000\n",
      "max         98.000000\n",
      "Name: Age, dtype: float64\n",
      "Rows where 'Age' is greater than 100 after replacement:\n"
     ]
    },
    {
     "name": "stderr",
     "output_type": "stream",
     "text": [
      "C:\\Users\\Marcus\\AppData\\Local\\Temp\\ipykernel_2304\\3922784848.py:7: FutureWarning: Setting an item of incompatible dtype is deprecated and will raise an error in a future version of pandas. Value '40.025303452191075' has dtype incompatible with int64, please explicitly cast to a compatible dtype first.\n",
      "  df.loc[df['Age'] > 100, 'Age'] = mean_age_excluding_outliers\n"
     ]
    },
    {
     "data": {
      "text/html": [
       "<div>\n",
       "<style scoped>\n",
       "    .dataframe tbody tr th:only-of-type {\n",
       "        vertical-align: middle;\n",
       "    }\n",
       "\n",
       "    .dataframe tbody tr th {\n",
       "        vertical-align: top;\n",
       "    }\n",
       "\n",
       "    .dataframe thead th {\n",
       "        text-align: right;\n",
       "    }\n",
       "</style>\n",
       "<table border=\"1\" class=\"dataframe\">\n",
       "  <thead>\n",
       "    <tr style=\"text-align: right;\">\n",
       "      <th></th>\n",
       "      <th>Client ID</th>\n",
       "      <th>Age</th>\n",
       "      <th>Occupation</th>\n",
       "      <th>Marital Status</th>\n",
       "      <th>Education Level</th>\n",
       "      <th>Credit Default</th>\n",
       "      <th>Housing Loan</th>\n",
       "      <th>Personal Loan</th>\n",
       "      <th>Contact Method</th>\n",
       "      <th>Campaign Calls</th>\n",
       "      <th>Previous Contact Days</th>\n",
       "      <th>Subscription Status</th>\n",
       "    </tr>\n",
       "  </thead>\n",
       "  <tbody>\n",
       "  </tbody>\n",
       "</table>\n",
       "</div>"
      ],
      "text/plain": [
       "Empty DataFrame\n",
       "Columns: [Client ID, Age, Occupation, Marital Status, Education Level, Credit Default, Housing Loan, Personal Loan, Contact Method, Campaign Calls, Previous Contact Days, Subscription Status]\n",
       "Index: []"
      ]
     },
     "execution_count": 19,
     "metadata": {},
     "output_type": "execute_result"
    }
   ],
   "source": [
    "df['Age'] = df['Age'].str.replace('years', '', regex=False) #Let's remove the years so we can turn age into int.\n",
    "df['Age'] = df['Age'].astype(int)\n",
    "# Calculate the mean of 'Age' excluding values above 100\n",
    "mean_age_excluding_outliers = df[df['Age'] <= 101]['Age'].mean()\n",
    "\n",
    "# Replace ages above 100 with the calculated mean\n",
    "df.loc[df['Age'] > 100, 'Age'] = mean_age_excluding_outliers\n",
    "\n",
    "print(df['Age'].describe())\n",
    "df_age_over_100_after = df[df['Age'] > 100]\n",
    "print(\"Rows where 'Age' is greater than 100 after replacement:\")\n",
    "df_age_over_100_after #No more age 150."
   ]
  },
  {
   "cell_type": "code",
   "execution_count": 20,
   "metadata": {},
   "outputs": [
    {
     "name": "stdout",
     "output_type": "stream",
     "text": [
      "Age\n",
      "40    5224\n",
      "31    1747\n",
      "32    1646\n",
      "33    1643\n",
      "36    1606\n",
      "      ... \n",
      "92       4\n",
      "89       2\n",
      "91       2\n",
      "98       2\n",
      "95       1\n",
      "Name: count, Length: 76, dtype: int64\n"
     ]
    }
   ],
   "source": [
    "df['Age'] = df['Age'].astype(int)\n",
    "print(df['Age'].value_counts()) #int, no floats."
   ]
  },
  {
   "cell_type": "markdown",
   "metadata": {},
   "source": [
    "Converting campaign calls to all positive."
   ]
  },
  {
   "cell_type": "code",
   "execution_count": 21,
   "metadata": {},
   "outputs": [
    {
     "name": "stdout",
     "output_type": "stream",
     "text": [
      "Any negatives left: False\n"
     ]
    }
   ],
   "source": [
    "df['Campaign Calls'] = df['Campaign Calls'].abs()\n",
    "print(\"Any negatives left:\", (df['Campaign Calls'] < 0).any())"
   ]
  },
  {
   "cell_type": "code",
   "execution_count": 22,
   "metadata": {},
   "outputs": [
    {
     "data": {
      "text/html": [
       "<div>\n",
       "<style scoped>\n",
       "    .dataframe tbody tr th:only-of-type {\n",
       "        vertical-align: middle;\n",
       "    }\n",
       "\n",
       "    .dataframe tbody tr th {\n",
       "        vertical-align: top;\n",
       "    }\n",
       "\n",
       "    .dataframe thead th {\n",
       "        text-align: right;\n",
       "    }\n",
       "</style>\n",
       "<table border=\"1\" class=\"dataframe\">\n",
       "  <thead>\n",
       "    <tr style=\"text-align: right;\">\n",
       "      <th></th>\n",
       "      <th>Client ID</th>\n",
       "      <th>Age</th>\n",
       "      <th>Occupation</th>\n",
       "      <th>Marital Status</th>\n",
       "      <th>Education Level</th>\n",
       "      <th>Credit Default</th>\n",
       "      <th>Housing Loan</th>\n",
       "      <th>Personal Loan</th>\n",
       "      <th>Contact Method</th>\n",
       "      <th>Campaign Calls</th>\n",
       "      <th>Previous Contact Days</th>\n",
       "      <th>Subscription Status</th>\n",
       "    </tr>\n",
       "  </thead>\n",
       "  <tbody>\n",
       "    <tr>\n",
       "      <th>0</th>\n",
       "      <td>32885</td>\n",
       "      <td>57</td>\n",
       "      <td>technician</td>\n",
       "      <td>married</td>\n",
       "      <td>high.school</td>\n",
       "      <td>no</td>\n",
       "      <td>no</td>\n",
       "      <td>yes</td>\n",
       "      <td>Cellular</td>\n",
       "      <td>1</td>\n",
       "      <td>999</td>\n",
       "      <td>no</td>\n",
       "    </tr>\n",
       "    <tr>\n",
       "      <th>1</th>\n",
       "      <td>3170</td>\n",
       "      <td>55</td>\n",
       "      <td>unknown</td>\n",
       "      <td>married</td>\n",
       "      <td>unknown</td>\n",
       "      <td>unknown</td>\n",
       "      <td>yes</td>\n",
       "      <td>no</td>\n",
       "      <td>Telephone</td>\n",
       "      <td>2</td>\n",
       "      <td>999</td>\n",
       "      <td>no</td>\n",
       "    </tr>\n",
       "    <tr>\n",
       "      <th>2</th>\n",
       "      <td>32207</td>\n",
       "      <td>33</td>\n",
       "      <td>blue-collar</td>\n",
       "      <td>married</td>\n",
       "      <td>basic.9y</td>\n",
       "      <td>no</td>\n",
       "      <td>no</td>\n",
       "      <td>no</td>\n",
       "      <td>Cellular</td>\n",
       "      <td>1</td>\n",
       "      <td>999</td>\n",
       "      <td>no</td>\n",
       "    </tr>\n",
       "    <tr>\n",
       "      <th>3</th>\n",
       "      <td>9404</td>\n",
       "      <td>36</td>\n",
       "      <td>admin.</td>\n",
       "      <td>married</td>\n",
       "      <td>high.school</td>\n",
       "      <td>no</td>\n",
       "      <td>no</td>\n",
       "      <td>no</td>\n",
       "      <td>Telephone</td>\n",
       "      <td>4</td>\n",
       "      <td>999</td>\n",
       "      <td>no</td>\n",
       "    </tr>\n",
       "    <tr>\n",
       "      <th>4</th>\n",
       "      <td>14021</td>\n",
       "      <td>27</td>\n",
       "      <td>housemaid</td>\n",
       "      <td>married</td>\n",
       "      <td>high.school</td>\n",
       "      <td>no</td>\n",
       "      <td>no</td>\n",
       "      <td>no</td>\n",
       "      <td>Cellular</td>\n",
       "      <td>2</td>\n",
       "      <td>999</td>\n",
       "      <td>no</td>\n",
       "    </tr>\n",
       "    <tr>\n",
       "      <th>...</th>\n",
       "      <td>...</td>\n",
       "      <td>...</td>\n",
       "      <td>...</td>\n",
       "      <td>...</td>\n",
       "      <td>...</td>\n",
       "      <td>...</td>\n",
       "      <td>...</td>\n",
       "      <td>...</td>\n",
       "      <td>...</td>\n",
       "      <td>...</td>\n",
       "      <td>...</td>\n",
       "      <td>...</td>\n",
       "    </tr>\n",
       "    <tr>\n",
       "      <th>41183</th>\n",
       "      <td>6266</td>\n",
       "      <td>58</td>\n",
       "      <td>retired</td>\n",
       "      <td>married</td>\n",
       "      <td>professional.course</td>\n",
       "      <td>unknown</td>\n",
       "      <td>no</td>\n",
       "      <td>no</td>\n",
       "      <td>Telephone</td>\n",
       "      <td>2</td>\n",
       "      <td>999</td>\n",
       "      <td>no</td>\n",
       "    </tr>\n",
       "    <tr>\n",
       "      <th>41184</th>\n",
       "      <td>11285</td>\n",
       "      <td>37</td>\n",
       "      <td>management</td>\n",
       "      <td>married</td>\n",
       "      <td>university.degree</td>\n",
       "      <td>no</td>\n",
       "      <td>no</td>\n",
       "      <td>no</td>\n",
       "      <td>Telephone</td>\n",
       "      <td>1</td>\n",
       "      <td>999</td>\n",
       "      <td>no</td>\n",
       "    </tr>\n",
       "    <tr>\n",
       "      <th>41185</th>\n",
       "      <td>38159</td>\n",
       "      <td>35</td>\n",
       "      <td>admin.</td>\n",
       "      <td>married</td>\n",
       "      <td>high.school</td>\n",
       "      <td>no</td>\n",
       "      <td>no</td>\n",
       "      <td>no</td>\n",
       "      <td>Cellular</td>\n",
       "      <td>1</td>\n",
       "      <td>4</td>\n",
       "      <td>yes</td>\n",
       "    </tr>\n",
       "    <tr>\n",
       "      <th>41186</th>\n",
       "      <td>861</td>\n",
       "      <td>40</td>\n",
       "      <td>management</td>\n",
       "      <td>married</td>\n",
       "      <td>university.degree</td>\n",
       "      <td>no</td>\n",
       "      <td>no</td>\n",
       "      <td>no</td>\n",
       "      <td>Telephone</td>\n",
       "      <td>2</td>\n",
       "      <td>999</td>\n",
       "      <td>no</td>\n",
       "    </tr>\n",
       "    <tr>\n",
       "      <th>41187</th>\n",
       "      <td>15796</td>\n",
       "      <td>29</td>\n",
       "      <td>admin.</td>\n",
       "      <td>single</td>\n",
       "      <td>university.degree</td>\n",
       "      <td>no</td>\n",
       "      <td>yes</td>\n",
       "      <td>no</td>\n",
       "      <td>Cellular</td>\n",
       "      <td>2</td>\n",
       "      <td>999</td>\n",
       "      <td>no</td>\n",
       "    </tr>\n",
       "  </tbody>\n",
       "</table>\n",
       "<p>41188 rows × 12 columns</p>\n",
       "</div>"
      ],
      "text/plain": [
       "       Client ID  Age   Occupation Marital Status      Education Level  \\\n",
       "0          32885   57   technician        married          high.school   \n",
       "1           3170   55      unknown        married              unknown   \n",
       "2          32207   33  blue-collar        married             basic.9y   \n",
       "3           9404   36       admin.        married          high.school   \n",
       "4          14021   27    housemaid        married          high.school   \n",
       "...          ...  ...          ...            ...                  ...   \n",
       "41183       6266   58      retired        married  professional.course   \n",
       "41184      11285   37   management        married    university.degree   \n",
       "41185      38159   35       admin.        married          high.school   \n",
       "41186        861   40   management        married    university.degree   \n",
       "41187      15796   29       admin.         single    university.degree   \n",
       "\n",
       "      Credit Default Housing Loan Personal Loan Contact Method  \\\n",
       "0                 no           no           yes       Cellular   \n",
       "1            unknown          yes            no      Telephone   \n",
       "2                 no           no            no       Cellular   \n",
       "3                 no           no            no      Telephone   \n",
       "4                 no           no            no       Cellular   \n",
       "...              ...          ...           ...            ...   \n",
       "41183        unknown           no            no      Telephone   \n",
       "41184             no           no            no      Telephone   \n",
       "41185             no           no            no       Cellular   \n",
       "41186             no           no            no      Telephone   \n",
       "41187             no          yes            no       Cellular   \n",
       "\n",
       "       Campaign Calls  Previous Contact Days Subscription Status  \n",
       "0                   1                    999                  no  \n",
       "1                   2                    999                  no  \n",
       "2                   1                    999                  no  \n",
       "3                   4                    999                  no  \n",
       "4                   2                    999                  no  \n",
       "...               ...                    ...                 ...  \n",
       "41183               2                    999                  no  \n",
       "41184               1                    999                  no  \n",
       "41185               1                      4                 yes  \n",
       "41186               2                    999                  no  \n",
       "41187               2                    999                  no  \n",
       "\n",
       "[41188 rows x 12 columns]"
      ]
     },
     "execution_count": 22,
     "metadata": {},
     "output_type": "execute_result"
    }
   ],
   "source": [
    "df"
   ]
  },
  {
   "cell_type": "markdown",
   "metadata": {},
   "source": [
    "## Feature Engineering\n",
    "New column:\n"
   ]
  },
  {
   "cell_type": "code",
   "execution_count": 23,
   "metadata": {},
   "outputs": [
    {
     "name": "stdout",
     "output_type": "stream",
     "text": [
      "   Previous Contact Days  No_Prior_Contact\n",
      "0                    999                 1\n",
      "1                    999                 1\n",
      "2                    999                 1\n",
      "3                    999                 1\n",
      "4                    999                 1\n",
      "5                    999                 1\n",
      "6                    999                 1\n",
      "7                    999                 1\n",
      "8                    999                 1\n",
      "9                    999                 1\n",
      "No_Prior_Contact\n",
      "1    39673\n",
      "0     1515\n",
      "Name: count, dtype: int64\n"
     ]
    }
   ],
   "source": [
    "df['No_Prior_Contact'] = (df['Previous Contact Days'] == 999).astype(int)\n",
    "print(df[['Previous Contact Days', 'No_Prior_Contact']].head(10))\n",
    "print(df['No_Prior_Contact'].value_counts())"
   ]
  },
  {
   "cell_type": "markdown",
   "metadata": {},
   "source": [
    "### Label Encoding:"
   ]
  },
  {
   "cell_type": "code",
   "execution_count": 24,
   "metadata": {},
   "outputs": [],
   "source": [
    "from sklearn.preprocessing import LabelEncoder\n",
    "\n",
    "label_cols = ['Occupation', 'Marital Status', 'Education Level',\n",
    "              'Credit Default', 'Contact Method','Personal Loan', 'Housing Loan', 'Subscription Status']\n",
    "\n",
    "le = LabelEncoder()\n",
    "for col in label_cols:\n",
    "    df[col] = le.fit_transform(df[col])"
   ]
  },
  {
   "cell_type": "code",
   "execution_count": 25,
   "metadata": {},
   "outputs": [
    {
     "data": {
      "text/html": [
       "<div>\n",
       "<style scoped>\n",
       "    .dataframe tbody tr th:only-of-type {\n",
       "        vertical-align: middle;\n",
       "    }\n",
       "\n",
       "    .dataframe tbody tr th {\n",
       "        vertical-align: top;\n",
       "    }\n",
       "\n",
       "    .dataframe thead th {\n",
       "        text-align: right;\n",
       "    }\n",
       "</style>\n",
       "<table border=\"1\" class=\"dataframe\">\n",
       "  <thead>\n",
       "    <tr style=\"text-align: right;\">\n",
       "      <th></th>\n",
       "      <th>Client ID</th>\n",
       "      <th>Age</th>\n",
       "      <th>Occupation</th>\n",
       "      <th>Marital Status</th>\n",
       "      <th>Education Level</th>\n",
       "      <th>Credit Default</th>\n",
       "      <th>Housing Loan</th>\n",
       "      <th>Personal Loan</th>\n",
       "      <th>Contact Method</th>\n",
       "      <th>Campaign Calls</th>\n",
       "      <th>Previous Contact Days</th>\n",
       "      <th>Subscription Status</th>\n",
       "      <th>No_Prior_Contact</th>\n",
       "    </tr>\n",
       "  </thead>\n",
       "  <tbody>\n",
       "    <tr>\n",
       "      <th>0</th>\n",
       "      <td>32885</td>\n",
       "      <td>57</td>\n",
       "      <td>9</td>\n",
       "      <td>1</td>\n",
       "      <td>3</td>\n",
       "      <td>0</td>\n",
       "      <td>0</td>\n",
       "      <td>2</td>\n",
       "      <td>0</td>\n",
       "      <td>1</td>\n",
       "      <td>999</td>\n",
       "      <td>0</td>\n",
       "      <td>1</td>\n",
       "    </tr>\n",
       "    <tr>\n",
       "      <th>1</th>\n",
       "      <td>3170</td>\n",
       "      <td>55</td>\n",
       "      <td>11</td>\n",
       "      <td>1</td>\n",
       "      <td>7</td>\n",
       "      <td>1</td>\n",
       "      <td>2</td>\n",
       "      <td>0</td>\n",
       "      <td>1</td>\n",
       "      <td>2</td>\n",
       "      <td>999</td>\n",
       "      <td>0</td>\n",
       "      <td>1</td>\n",
       "    </tr>\n",
       "    <tr>\n",
       "      <th>2</th>\n",
       "      <td>32207</td>\n",
       "      <td>33</td>\n",
       "      <td>1</td>\n",
       "      <td>1</td>\n",
       "      <td>2</td>\n",
       "      <td>0</td>\n",
       "      <td>0</td>\n",
       "      <td>0</td>\n",
       "      <td>0</td>\n",
       "      <td>1</td>\n",
       "      <td>999</td>\n",
       "      <td>0</td>\n",
       "      <td>1</td>\n",
       "    </tr>\n",
       "    <tr>\n",
       "      <th>3</th>\n",
       "      <td>9404</td>\n",
       "      <td>36</td>\n",
       "      <td>0</td>\n",
       "      <td>1</td>\n",
       "      <td>3</td>\n",
       "      <td>0</td>\n",
       "      <td>0</td>\n",
       "      <td>0</td>\n",
       "      <td>1</td>\n",
       "      <td>4</td>\n",
       "      <td>999</td>\n",
       "      <td>0</td>\n",
       "      <td>1</td>\n",
       "    </tr>\n",
       "    <tr>\n",
       "      <th>4</th>\n",
       "      <td>14021</td>\n",
       "      <td>27</td>\n",
       "      <td>3</td>\n",
       "      <td>1</td>\n",
       "      <td>3</td>\n",
       "      <td>0</td>\n",
       "      <td>0</td>\n",
       "      <td>0</td>\n",
       "      <td>0</td>\n",
       "      <td>2</td>\n",
       "      <td>999</td>\n",
       "      <td>0</td>\n",
       "      <td>1</td>\n",
       "    </tr>\n",
       "    <tr>\n",
       "      <th>...</th>\n",
       "      <td>...</td>\n",
       "      <td>...</td>\n",
       "      <td>...</td>\n",
       "      <td>...</td>\n",
       "      <td>...</td>\n",
       "      <td>...</td>\n",
       "      <td>...</td>\n",
       "      <td>...</td>\n",
       "      <td>...</td>\n",
       "      <td>...</td>\n",
       "      <td>...</td>\n",
       "      <td>...</td>\n",
       "      <td>...</td>\n",
       "    </tr>\n",
       "    <tr>\n",
       "      <th>41183</th>\n",
       "      <td>6266</td>\n",
       "      <td>58</td>\n",
       "      <td>5</td>\n",
       "      <td>1</td>\n",
       "      <td>5</td>\n",
       "      <td>1</td>\n",
       "      <td>0</td>\n",
       "      <td>0</td>\n",
       "      <td>1</td>\n",
       "      <td>2</td>\n",
       "      <td>999</td>\n",
       "      <td>0</td>\n",
       "      <td>1</td>\n",
       "    </tr>\n",
       "    <tr>\n",
       "      <th>41184</th>\n",
       "      <td>11285</td>\n",
       "      <td>37</td>\n",
       "      <td>4</td>\n",
       "      <td>1</td>\n",
       "      <td>6</td>\n",
       "      <td>0</td>\n",
       "      <td>0</td>\n",
       "      <td>0</td>\n",
       "      <td>1</td>\n",
       "      <td>1</td>\n",
       "      <td>999</td>\n",
       "      <td>0</td>\n",
       "      <td>1</td>\n",
       "    </tr>\n",
       "    <tr>\n",
       "      <th>41185</th>\n",
       "      <td>38159</td>\n",
       "      <td>35</td>\n",
       "      <td>0</td>\n",
       "      <td>1</td>\n",
       "      <td>3</td>\n",
       "      <td>0</td>\n",
       "      <td>0</td>\n",
       "      <td>0</td>\n",
       "      <td>0</td>\n",
       "      <td>1</td>\n",
       "      <td>4</td>\n",
       "      <td>1</td>\n",
       "      <td>0</td>\n",
       "    </tr>\n",
       "    <tr>\n",
       "      <th>41186</th>\n",
       "      <td>861</td>\n",
       "      <td>40</td>\n",
       "      <td>4</td>\n",
       "      <td>1</td>\n",
       "      <td>6</td>\n",
       "      <td>0</td>\n",
       "      <td>0</td>\n",
       "      <td>0</td>\n",
       "      <td>1</td>\n",
       "      <td>2</td>\n",
       "      <td>999</td>\n",
       "      <td>0</td>\n",
       "      <td>1</td>\n",
       "    </tr>\n",
       "    <tr>\n",
       "      <th>41187</th>\n",
       "      <td>15796</td>\n",
       "      <td>29</td>\n",
       "      <td>0</td>\n",
       "      <td>2</td>\n",
       "      <td>6</td>\n",
       "      <td>0</td>\n",
       "      <td>2</td>\n",
       "      <td>0</td>\n",
       "      <td>0</td>\n",
       "      <td>2</td>\n",
       "      <td>999</td>\n",
       "      <td>0</td>\n",
       "      <td>1</td>\n",
       "    </tr>\n",
       "  </tbody>\n",
       "</table>\n",
       "<p>41188 rows × 13 columns</p>\n",
       "</div>"
      ],
      "text/plain": [
       "       Client ID  Age  Occupation  Marital Status  Education Level  \\\n",
       "0          32885   57           9               1                3   \n",
       "1           3170   55          11               1                7   \n",
       "2          32207   33           1               1                2   \n",
       "3           9404   36           0               1                3   \n",
       "4          14021   27           3               1                3   \n",
       "...          ...  ...         ...             ...              ...   \n",
       "41183       6266   58           5               1                5   \n",
       "41184      11285   37           4               1                6   \n",
       "41185      38159   35           0               1                3   \n",
       "41186        861   40           4               1                6   \n",
       "41187      15796   29           0               2                6   \n",
       "\n",
       "       Credit Default  Housing Loan  Personal Loan  Contact Method  \\\n",
       "0                   0             0              2               0   \n",
       "1                   1             2              0               1   \n",
       "2                   0             0              0               0   \n",
       "3                   0             0              0               1   \n",
       "4                   0             0              0               0   \n",
       "...               ...           ...            ...             ...   \n",
       "41183               1             0              0               1   \n",
       "41184               0             0              0               1   \n",
       "41185               0             0              0               0   \n",
       "41186               0             0              0               1   \n",
       "41187               0             2              0               0   \n",
       "\n",
       "       Campaign Calls  Previous Contact Days  Subscription Status  \\\n",
       "0                   1                    999                    0   \n",
       "1                   2                    999                    0   \n",
       "2                   1                    999                    0   \n",
       "3                   4                    999                    0   \n",
       "4                   2                    999                    0   \n",
       "...               ...                    ...                  ...   \n",
       "41183               2                    999                    0   \n",
       "41184               1                    999                    0   \n",
       "41185               1                      4                    1   \n",
       "41186               2                    999                    0   \n",
       "41187               2                    999                    0   \n",
       "\n",
       "       No_Prior_Contact  \n",
       "0                     1  \n",
       "1                     1  \n",
       "2                     1  \n",
       "3                     1  \n",
       "4                     1  \n",
       "...                 ...  \n",
       "41183                 1  \n",
       "41184                 1  \n",
       "41185                 0  \n",
       "41186                 1  \n",
       "41187                 1  \n",
       "\n",
       "[41188 rows x 13 columns]"
      ]
     },
     "execution_count": 25,
     "metadata": {},
     "output_type": "execute_result"
    }
   ],
   "source": [
    "df"
   ]
  },
  {
   "cell_type": "markdown",
   "metadata": {},
   "source": [
    "TESTTTTTTT"
   ]
  },
  {
   "cell_type": "code",
   "execution_count": null,
   "metadata": {},
   "outputs": [],
   "source": []
  },
  {
   "cell_type": "markdown",
   "metadata": {},
   "source": []
  }
 ],
 "metadata": {
  "kernelspec": {
   "display_name": "tflocal",
   "language": "python",
   "name": "python3"
  },
  "language_info": {
   "codemirror_mode": {
    "name": "ipython",
    "version": 3
   },
   "file_extension": ".py",
   "mimetype": "text/x-python",
   "name": "python",
   "nbconvert_exporter": "python",
   "pygments_lexer": "ipython3",
   "version": "3.9.21"
  }
 },
 "nbformat": 4,
 "nbformat_minor": 2
}
